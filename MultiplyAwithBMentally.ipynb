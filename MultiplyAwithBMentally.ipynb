{
  "nbformat": 4,
  "nbformat_minor": 0,
  "metadata": {
    "colab": {
      "provenance": [],
      "authorship_tag": "ABX9TyMiVu7wrfHBoSEXi0alLbeD",
      "include_colab_link": true
    },
    "kernelspec": {
      "name": "python3",
      "display_name": "Python 3"
    },
    "language_info": {
      "name": "python"
    }
  },
  "cells": [
    {
      "cell_type": "markdown",
      "metadata": {
        "id": "view-in-github",
        "colab_type": "text"
      },
      "source": [
        "<a href=\"https://colab.research.google.com/github/vigilantmaster/MultiplyAwithBMentalVersion/blob/main/MultiplyAwithBMentally.ipynb\" target=\"_parent\"><img src=\"https://colab.research.google.com/assets/colab-badge.svg\" alt=\"Open In Colab\"/></a>"
      ]
    },
    {
      "cell_type": "code",
      "source": [
        "# prompt: tokenize each digit into an integer from user input\n",
        "\n",
        "import nltk\n",
        "from nltk.tokenize import word_tokenize\n",
        "\n",
        "user_input = input(\"Enter first number: \")\n",
        "user_input2 = input(\"Enter second number: \")\n",
        "carryOver = False\n",
        "workingInteger = 0\n",
        "output = []  # Change output to a list\n",
        "\n",
        "\n",
        "# Tokenize each digit into an integer\n",
        "integer_tokens = []\n",
        "integer_tokens2 = []\n",
        "if user_input.isdigit() & user_input2.isdigit():\n",
        "  print(\"Multiplying\", user_input, \"with\", user_input2)\n",
        "  for char in user_input:\n",
        "    integer_tokens.append(int(char))\n",
        "  for char in user_input2:\n",
        "    integer_tokens2.append(int(char))\n",
        "else:\n",
        "  print(\"Input is not a digit\")\n",
        "  exit()\n",
        "\n",
        "\n",
        "print(\"Integer Tokens:\", integer_tokens)\n",
        "print(\"Integer Tokens 2:\", integer_tokens2)\n",
        "\n",
        "for workingInteger1 in reversed(integer_tokens):\n",
        "  if workingInteger1 == integer_tokens[0]:\n",
        "      continue\n",
        "  for index in range(len(integer_tokens2)):\n",
        "    workingInteger = integer_tokens2[index]\n",
        "    if index == 0:\n",
        "      output.append(str(workingInteger)) # Append to list\n",
        "      print(\"First Digit: \", \"\".join(output)) # Join list for printing\n",
        "      continue\n",
        "    workingInteger += integer_tokens2[index-1] * workingInteger1\n",
        "    if workingInteger >= 10:\n",
        "      workingInteger -= 10\n",
        "      carryOver = True\n",
        "      output[index-1] = str(int(output[-1]) + 1) # Modify list element\n",
        "    output.append(str(workingInteger))  # Append to list\n",
        "    print(\"Adding:\", integer_tokens2[index-1], \"and\", integer_tokens2[index] * workingInteger1, \"CarryOver:\", carryOver , \"Current Output: \", \"\".join(output)) # Join list for printing\n",
        "    carryOver = False\n",
        "  output.append(str(integer_tokens2[len(integer_tokens2)-1] * workingInteger1)) # Append to list\n",
        "print(\"Output:\", \"\".join(output)) # Join list for final output"
      ],
      "metadata": {
        "colab": {
          "base_uri": "https://localhost:8080/"
        },
        "id": "WZlxsyafxY4B",
        "outputId": "82c93722-cb88-4a11-fc7e-f4fb9b4665ca"
      },
      "execution_count": null,
      "outputs": [
        {
          "output_type": "stream",
          "name": "stdout",
          "text": [
            "Enter first number: 12\n",
            "Enter second number: 11\n",
            "Multiplying 12 with 11\n",
            "Integer Tokens: [1, 2]\n",
            "Integer Tokens 2: [1, 1]\n",
            "First Digit:  1\n",
            "Adding: 1 and 2 CarryOver: False Current Output:  13\n",
            "Output: 132\n"
          ]
        }
      ]
    }
  ]
}